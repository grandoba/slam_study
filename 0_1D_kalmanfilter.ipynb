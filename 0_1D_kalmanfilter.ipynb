{
 "cells": [
  {
   "cell_type": "code",
   "execution_count": 1,
   "metadata": {},
   "outputs": [],
   "source": [
    "%matplotlib inline\n",
    "import numpy as np\n",
    "from numpy.random import randn\n",
    "import matplotlib.pyplot as plt\n",
    "import math"
   ]
  },
  {
   "cell_type": "code",
   "execution_count": 2,
   "metadata": {},
   "outputs": [
    {
     "name": "stdout",
     "output_type": "stream",
     "text": [
      "Mean of readings is 10.035\n"
     ]
    },
    {
     "data": {
      "image/png": "[encoded data removed]",
      "text/plain": [
       "<Figure size 432x288 with 1 Axes>"
      ]
     },
     "metadata": {
      "needs_background": "light"
     },
     "output_type": "display_data"
    }
   ],
   "source": [
    "xs = range(500)\n",
    "ys = randn(500)*1 +10\n",
    "plt.plot(xs,ys)\n",
    "print('Mean of readings is {:.3f}'.format(np.mean(ys)))"
   ]
  },
  {
   "cell_type": "code",
   "execution_count": 3,
   "metadata": {},
   "outputs": [
    {
     "name": "stdout",
     "output_type": "stream",
     "text": [
      "𝒩(μ=3.400, 𝜎²=10.100)\n",
      "𝒩(μ=4.500, 𝜎²=0.040)\n"
     ]
    }
   ],
   "source": [
    "from collections import namedtuple\n",
    "gaussian = namedtuple('Gaussian', ['mean','var'])\n",
    "gaussian.__repr__ = lambda s: '𝒩(μ={:.3f}, 𝜎²={:.3f})'.format(s[0], s[1])\n",
    "g1 = gaussian(3.4, 10.1)\n",
    "g2 = gaussian(mean=4.5, var=0.2**2)\n",
    "print(g1)\n",
    "print(g2)\n"
   ]
  },
  {
   "cell_type": "markdown",
   "metadata": {},
   "source": [
    "### 1. Prediction\n",
    "The position is uncertain and the amount moved is also uncertain - both in a gaussian manner. So the two uncertainties are added since they are both in the same unit.\n",
    "\n",
    "prediction = current position gaussian + movement gaussian"
   ]
  },
  {
   "cell_type": "code",
   "execution_count": 4,
   "metadata": {},
   "outputs": [],
   "source": [
    "def predict(pos,movement):\n",
    "    return gaussian(pos.mean + movement.mean, pos.var + movement.var)"
   ]
  },
  {
   "cell_type": "markdown",
   "metadata": {},
   "source": [
    "**Example) What is the prior if the intitial position is the Gaussian N(10,0.22) and the movement is the Gaussian N(15,0.72)?**"
   ]
  },
  {
   "cell_type": "code",
   "execution_count": 5,
   "metadata": {},
   "outputs": [
    {
     "data": {
      "text/plain": [
       "𝒩(μ=25.000, 𝜎²=0.530)"
      ]
     },
     "execution_count": 5,
     "metadata": {},
     "output_type": "execute_result"
    }
   ],
   "source": [
    "pos = gaussian(10., .2**2)\n",
    "move = gaussian(15., .7**2)\n",
    "predict(pos, move)"
   ]
  },
  {
   "cell_type": "markdown",
   "metadata": {},
   "source": [
    "### 2. Updates\n",
    "Baye's rule state: posterior = normalized ( likelihood * prior )\n",
    "\n",
    "**likelihood:** the probability of the measurement given the current state\n",
    "**prior:** current state estimate in the form of a gaussian\n"
   ]
  },
  {
   "cell_type": "code",
   "execution_count": 6,
   "metadata": {},
   "outputs": [],
   "source": [
    "def gaussian_multiply(g1, g2):\n",
    "    mean = (g1.var * g2.mean + g2.var * g1.mean)/ (g1.var + g2.var)\n",
    "    variance = (g1.var * g2.var) / (g1.var + g2.var)\n",
    "    return gaussian(mean, variance)\n",
    "def update(likelihood, prior):\n",
    "    posterior = gaussian_multiply( likelihood, prior )\n",
    "    return posterior"
   ]
  },
  {
   "cell_type": "markdown",
   "metadata": {},
   "source": [
    "## Trying it out\n",
    "\n",
    "Dog tracking simulation"
   ]
  },
  {
   "cell_type": "markdown",
   "metadata": {},
   "source": [
    "### The simulator"
   ]
  },
  {
   "cell_type": "code",
   "execution_count": 7,
   "metadata": {},
   "outputs": [],
   "source": [
    "class DogSimulation(object):\n",
    "    def __init__(self, x0=0, velocity=1,\n",
    "                 measurement_var=0.0,\n",
    "                 process_var=0.0):\n",
    "        \"\"\" x0 : initial position\n",
    "            velocity: (+=right, -=left)\n",
    "            measurement_var: variance in measurement m^2\n",
    "            process_var: variance in process (m/s)^2\n",
    "        \"\"\"\n",
    "        self.x = x0\n",
    "        self.velocity = velocity\n",
    "        self.meas_std = math.sqrt(measurement_var)\n",
    "        self.process_std = math.sqrt(process_var)\n",
    "\n",
    "    def move(self, dt=1.0):\n",
    "        \"\"\"Compute new position of the dog in dt seconds.\"\"\"\n",
    "        dx = self.velocity + randn()*self.process_std\n",
    "        self.x += dx * dt\n",
    "\n",
    "    def sense_position(self):\n",
    "        \"\"\" Returns measurement of new position in meters.\"\"\"\n",
    "        measurement = self.x + randn()*self.meas_std\n",
    "        return measurement\n",
    "\n",
    "    def move_and_sense(self):\n",
    "        \"\"\" Move dog, and return measurement of new position in meters\"\"\"\n",
    "        self.move()\n",
    "        return self.sense_position()"
   ]
  },
  {
   "cell_type": "markdown",
   "metadata": {},
   "source": [
    "## The measurement "
   ]
  },
  {
   "cell_type": "code",
   "execution_count": 8,
   "metadata": {},
   "outputs": [
    {
     "name": "stdout",
     "output_type": "stream",
     "text": [
      "[3.3431437306040612, 1.7743296577444332, 2.3891674198710318, 4.826544568842564, 5.430403216721147, 8.811703162575421, 8.599484868891548, 9.00343550128344, 8.428426046544159, 9.194775927907648]\n"
     ]
    }
   ],
   "source": [
    "np.random.seed(10)\n",
    "\n",
    "process_var = 1 # variance in the dog's movement\n",
    "sensor_var = 2 # variance in the sensor\n",
    "\n",
    "x = gaussian(0, 20**2) # dog's position, N(0, 20**2)\n",
    "velocity = 1\n",
    "dt = 1\n",
    "process_model = gaussian(velocity*dt,process_var) # displacement to add to x\n",
    "\n",
    "# simulate dog and get measurements\n",
    "\n",
    "dog = DogSimulation(\n",
    "    x0=x.mean,\n",
    "    velocity=process_model.mean,\n",
    "    measurement_var=sensor_var,\n",
    "    process_var=process_model.var\n",
    ")\n",
    "\n",
    "# create list of measurements\n",
    "zs = [dog.move_and_sense() for _ in range(10)]\n",
    "print(zs)"
   ]
  },
  {
   "cell_type": "markdown",
   "metadata": {},
   "source": [
    "## Kalman filter implementation"
   ]
  },
  {
   "cell_type": "code",
   "execution_count": 9,
   "metadata": {},
   "outputs": [
    {
     "name": "stdout",
     "output_type": "stream",
     "text": [
      "prior.mean:     0.000    prior.var:   400.000\n",
      "measurement:      3.343\n",
      "posterior.mean:     3.332    posterior.var:     1.990\n",
      "\n",
      "\n",
      "prior.mean:     3.332    prior.var:     1.990\n",
      "measurement:      1.774\n",
      "posterior.mean:     2.799    posterior.var:     1.198\n",
      "\n",
      "\n",
      "prior.mean:     2.799    prior.var:     1.198\n",
      "measurement:      2.389\n",
      "posterior.mean:     3.061    posterior.var:     1.047\n",
      "\n",
      "\n",
      "prior.mean:     3.061    prior.var:     1.047\n",
      "measurement:      4.827\n",
      "posterior.mean:     4.448    posterior.var:     1.012\n",
      "\n",
      "\n",
      "prior.mean:     4.448    prior.var:     1.012\n",
      "measurement:      5.430\n",
      "posterior.mean:     5.439    posterior.var:     1.003\n",
      "\n",
      "\n",
      "prior.mean:     5.439    prior.var:     1.003\n",
      "measurement:      8.812\n",
      "posterior.mean:     7.626    posterior.var:     1.001\n",
      "\n",
      "\n",
      "prior.mean:     7.626    prior.var:     1.001\n",
      "measurement:      8.599\n",
      "posterior.mean:     8.613    posterior.var:     1.000\n",
      "\n",
      "\n",
      "prior.mean:     8.613    prior.var:     1.000\n",
      "measurement:      9.003\n",
      "posterior.mean:     9.308    posterior.var:     1.000\n",
      "\n",
      "\n",
      "prior.mean:     9.308    prior.var:     1.000\n",
      "measurement:      8.428\n",
      "posterior.mean:     9.368    posterior.var:     1.000\n",
      "\n",
      "\n",
      "prior.mean:     9.368    prior.var:     1.000\n",
      "measurement:      9.195\n",
      "posterior.mean:     9.782    posterior.var:     1.000\n",
      "\n",
      "\n",
      "final estimate:              9.782\n",
      "actual final position:      10.722\n"
     ]
    }
   ],
   "source": [
    "for z in zs:\n",
    "    prior = predict(x, process_model)\n",
    "    print('prior.mean:{:10.3f}    prior.var:{:10.3f}'.format(x.mean, x.var))    \n",
    "    likelihood = gaussian(z, sensor_var)\n",
    "    x = update(likelihood, prior)\n",
    "    print('measurement: {:10.3f}'.format(z))\n",
    "    print('posterior.mean:{:10.3f}    posterior.var:{:10.3f}'.format(x.mean, x.var)) \n",
    "    print('\\n')\n",
    "\n",
    "\n",
    "print('final estimate:         {:10.3f}'.format(x.mean))\n",
    "print('actual final position:  {:10.3f}'.format(dog.x))"
   ]
  },
  {
   "cell_type": "markdown",
   "metadata": {},
   "source": [
    "## ABOVE CODE SIMPLIFIED is shown below"
   ]
  },
  {
   "cell_type": "code",
   "execution_count": 10,
   "metadata": {},
   "outputs": [
    {
     "name": "stdout",
     "output_type": "stream",
     "text": [
      "prediction      1.000\n",
      "measurement      3.343\n",
      "posterior      2.172\n",
      "-\n",
      "prediction      3.172\n",
      "measurement      1.774\n",
      "posterior      2.473\n",
      "-\n",
      "prediction      3.473\n",
      "measurement      2.389\n",
      "posterior      2.931\n",
      "-\n",
      "prediction      3.931\n",
      "measurement      4.827\n",
      "posterior      4.379\n",
      "-\n",
      "prediction      5.379\n",
      "measurement      5.430\n",
      "posterior      5.405\n",
      "-\n",
      "prediction      6.405\n",
      "measurement      8.812\n",
      "posterior      7.608\n",
      "-\n",
      "prediction      8.608\n",
      "measurement      8.599\n",
      "posterior      8.604\n",
      "-\n",
      "prediction      9.604\n",
      "measurement      9.003\n",
      "posterior      9.304\n",
      "-\n",
      "prediction     10.304\n",
      "measurement      8.428\n",
      "posterior      9.366\n",
      "-\n",
      "prediction     10.366\n",
      "measurement      9.195\n",
      "posterior      9.780\n",
      "-\n"
     ]
    }
   ],
   "source": [
    "pos = 0  #initial estimate\n",
    "var = 1\n",
    "\n",
    "for z in zs:\n",
    "    # predict\n",
    "    dx = velocity*dt\n",
    "    pos = pos + dx\n",
    "    var = var + process_var\n",
    "    print('prediction {:10.3f}'.format(pos))\n",
    "    print('measurement {:10.3f}'.format(z))\n",
    "    # update\n",
    "    pos  = (var*z + sensor_var*pos) / (var + sensor_var)\n",
    "    var = (var * sensor_var) / (var + sensor_var)\n",
    "    print('posterior {:10.3f}'.format(pos))\n",
    "    print('-')\n",
    "    "
   ]
  },
  {
   "cell_type": "markdown",
   "metadata": {},
   "source": [
    "# Kalman Gain 이라는 방식으로 새롭게 전개한다면? \n"
   ]
  },
  {
   "cell_type": "code",
   "execution_count": 11,
   "metadata": {},
   "outputs": [],
   "source": [
    "def update(prior, measurement):\n",
    "    x, P = prior        # mean and variance of prior\n",
    "    z, R = measurement  # mean and variance of measurement\n",
    "    \n",
    "    y = z - x        # residual\n",
    "    K = P / (P + R)  # Kalman gain\n",
    "\n",
    "    x = x + K*y      # posterior\n",
    "    P = (1 - K) * P  # posterior variance\n",
    "    return gaussian(x, P)\n",
    "\n",
    "def predict(posterior, movement):\n",
    "    x, P = posterior # mean and variance of posterior\n",
    "    dx, Q = movement # mean and variance of movement\n",
    "    x = x + dx\n",
    "    P = P + Q\n",
    "    return gaussian(x, P)"
   ]
  },
  {
   "cell_type": "code",
   "execution_count": 12,
   "metadata": {},
   "outputs": [
    {
     "name": "stdout",
     "output_type": "stream",
     "text": [
      "prior.mean:     0.000    prior.var:   400.000\n",
      "measurement:      3.343\n",
      "posterior.mean:     3.332    posterior.var:     1.990\n",
      "\n",
      "\n",
      "prior.mean:     3.332    prior.var:     1.990\n",
      "measurement:      1.774\n",
      "posterior.mean:     2.799    posterior.var:     1.198\n",
      "\n",
      "\n",
      "prior.mean:     2.799    prior.var:     1.198\n",
      "measurement:      2.389\n",
      "posterior.mean:     3.061    posterior.var:     1.047\n",
      "\n",
      "\n",
      "prior.mean:     3.061    prior.var:     1.047\n",
      "measurement:      4.827\n",
      "posterior.mean:     4.448    posterior.var:     1.012\n",
      "\n",
      "\n",
      "prior.mean:     4.448    prior.var:     1.012\n",
      "measurement:      5.430\n",
      "posterior.mean:     5.439    posterior.var:     1.003\n",
      "\n",
      "\n",
      "prior.mean:     5.439    prior.var:     1.003\n",
      "measurement:      8.812\n",
      "posterior.mean:     7.626    posterior.var:     1.001\n",
      "\n",
      "\n",
      "prior.mean:     7.626    prior.var:     1.001\n",
      "measurement:      8.599\n",
      "posterior.mean:     8.613    posterior.var:     1.000\n",
      "\n",
      "\n",
      "prior.mean:     8.613    prior.var:     1.000\n",
      "measurement:      9.003\n",
      "posterior.mean:     9.308    posterior.var:     1.000\n",
      "\n",
      "\n",
      "prior.mean:     9.308    prior.var:     1.000\n",
      "measurement:      8.428\n",
      "posterior.mean:     9.368    posterior.var:     1.000\n",
      "\n",
      "\n",
      "prior.mean:     9.368    prior.var:     1.000\n",
      "measurement:      9.195\n",
      "posterior.mean:     9.782    posterior.var:     1.000\n",
      "\n",
      "\n",
      "final estimate:              9.782\n",
      "actual final position:      10.722\n"
     ]
    }
   ],
   "source": [
    "x = gaussian(0, 20**2) # dog's position, N(0, 20**2)\n",
    "for z in zs:\n",
    "    prior = predict(x, process_model)\n",
    "    print('prior.mean:{:10.3f}    prior.var:{:10.3f}'.format(x.mean, x.var))    \n",
    "    likelihood = gaussian(z, sensor_var)\n",
    "    x = update(likelihood, prior)\n",
    "    print('measurement: {:10.3f}'.format(z))\n",
    "    print('posterior.mean:{:10.3f}    posterior.var:{:10.3f}'.format(x.mean, x.var)) \n",
    "    print('\\n')\n",
    "\n",
    "\n",
    "print('final estimate:         {:10.3f}'.format(x.mean))\n",
    "print('actual final position:  {:10.3f}'.format(dog.x))"
   ]
  },
  {
   "cell_type": "code",
   "execution_count": null,
   "metadata": {},
   "outputs": [],
   "source": []
  },
  {
   "cell_type": "code",
   "execution_count": null,
   "metadata": {},
   "outputs": [],
   "source": []
  },
  {
   "cell_type": "code",
   "execution_count": null,
   "metadata": {},
   "outputs": [],
   "source": []
  }
 ],
 "metadata": {
  "kernelspec": {
   "display_name": "Python 3",
   "language": "python",
   "name": "python3"
  },
  "language_info": {
   "codemirror_mode": {
    "name": "ipython",
    "version": 3
   },
   "file_extension": ".py",
   "mimetype": "text/x-python",
   "name": "python",
   "nbconvert_exporter": "python",
   "pygments_lexer": "ipython3",
   "version": "3.8.5"
  }
 },
 "nbformat": 4,
 "nbformat_minor": 2
}
