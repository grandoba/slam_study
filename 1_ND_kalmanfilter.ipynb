{
 "cells": [
  {
   "cell_type": "markdown",
   "metadata": {},
   "source": [
    "# Kalman filter for more than 1 state variable - N dimensional state vector Kalman filter"
   ]
  },
  {
   "cell_type": "markdown",
   "metadata": {},
   "source": [
    "<u>**Predict**</u>\n",
    "\n",
    "$\\begin{array}{|l|l|l|}\n",
    "\\hline\n",
    "\\text{Univariate} & \\text{Univariate} & \\text{Multivariate}\\\\\n",
    "& \\text{(Kalman form)} & \\\\\n",
    "\\hline\n",
    "\\bar \\mu = \\mu + \\mu_{f_x} & \\bar x = x + dx & \\bar{\\mathbf x} = \\mathbf{Fx} + \\mathbf{Bu}\\\\\n",
    "\\bar\\sigma^2 = \\sigma_x^2 + \\sigma_{f_x}^2 & \\bar P = P + Q & \\bar{\\mathbf P} = \\mathbf{FPF}^\\mathsf T + \\mathbf Q \\\\\n",
    "\\hline\n",
    "\\end{array}$\n",
    "\n",
    "<u>**Update**</u>\n",
    "\n",
    "$\\begin{array}{|l|l|l|}\n",
    "\\hline\n",
    "\\text{Univariate} & \\text{Univariate} & \\text{Multivariate}\\\\\n",
    "& \\text{(Kalman form)} & \\\\\n",
    "\\hline\n",
    "& y = z - \\bar x & \\mathbf y = \\mathbf z - \\mathbf{H\\bar x} \\\\\n",
    "& K = \\frac{\\bar P}{\\bar P+R}&\n",
    "\\mathbf K = \\mathbf{\\bar{P}H}^\\mathsf T (\\mathbf{H\\bar{P}H}^\\mathsf T + \\mathbf R)^{-1} \\\\\n",
    "\\mu=\\frac{\\bar\\sigma^2\\, \\mu_z + \\sigma_z^2 \\, \\bar\\mu} {\\bar\\sigma^2 + \\sigma_z^2} & x = \\bar x + Ky & \\mathbf x = \\bar{\\mathbf x} + \\mathbf{Ky} \\\\\n",
    "\\sigma^2 = \\frac{\\sigma_1^2\\sigma_2^2}{\\sigma_1^2+\\sigma_2^2} & P = (1-K)\\bar P &\n",
    "\\mathbf P = (\\mathbf I - \\mathbf{KH})\\mathbf{\\bar{P}} \\\\\n",
    "\\hline\n",
    "\\end{array}$"
   ]
  },
  {
   "cell_type": "markdown",
   "metadata": {},
   "source": [
    "$\\mathbf{Fx}$는 이전 time의 posterior state를 가지고 현재 state를 estimate하는 곱셈 결과이다. 즉, 그냥 시스템의 현재 상태를 보고 다음 상태를 예측한 값임\n",
    "\n",
    "$\\mathbf{Bu}$는 현재 time의 control input에 의해 state의 변화량이다. 즉, $\\Delta\\mathbf x$이다."
   ]
  },
  {
   "cell_type": "markdown",
   "metadata": {},
   "source": [
    "## MAKE DATA SIMULATION - Dog Tracker"
   ]
  },
  {
   "cell_type": "code",
   "execution_count": 1,
   "metadata": {},
   "outputs": [],
   "source": [
    "import math\n",
    "import numpy as np\n",
    "from numpy.random import randn\n",
    "\n",
    "def compute_dog_data(x, vel, z_var, process_var, count=1, dt=1.):\n",
    "    \"returns track, measurements 1D ndarrays\"\n",
    "    z_std = math.sqrt(z_var) \n",
    "    p_std = math.sqrt(process_var)\n",
    "    xs, zs = [], []\n",
    "    for _ in range(count):\n",
    "        v = vel + (randn() * p_std)\n",
    "        x += v*dt        \n",
    "        xs.append(x)\n",
    "        zs.append(x + randn() * z_std)        \n",
    "    return np.array(xs), np.array(zs)"
   ]
  },
  {
   "cell_type": "markdown",
   "metadata": {},
   "source": [
    "## STEPS TO TAKE\n",
    "#### 1. Design state variable: x\n",
    "$$\\mathbf x =\\begin{bmatrix}x \\\\ \\dot x\\end{bmatrix}$$\n",
    "#### 2. Design state covariance: P\n",
    "$\\mathbf P$ will be reduced at each time step -> So, start at large value \n",
    "$$\n",
    "\\mathbf P = \\begin{bmatrix}500 & 0 \\\\ 0&49\\end{bmatrix}\n",
    "$$\n",
    "\n",
    "#### 3. Design prior mean equation: process model  (Fx) + control model (Bu)\n",
    "- process model\n",
    "$$\\mathbf{\\bar x} = \\mathbf{Fx}$$ \n",
    "    which we can make explicit as\n",
    "\n",
    "                    \n",
    "\n",
    "$$\\begin{bmatrix} \\bar x \\\\ \\dot{\\bar x}\\end{bmatrix} = \\begin{bmatrix}? & ? \\\\? & ?\\end{bmatrix}\\begin{bmatrix}x\\\\\\dot x\\end{bmatrix}$$\n",
    "\n",
    "$$\\begin{aligned}\n",
    "\\begin{bmatrix}\\bar x \\\\ \\bar{\\dot x}\\end{bmatrix} &= \\begin{bmatrix}1&\\Delta t  \\\\ 0&1\\end{bmatrix}  \\begin{bmatrix}x \\\\ \\dot x\\end{bmatrix}\\\\\n",
    "\\end{aligned}$$\n",
    "\n",
    "\n",
    "- control model\n",
    "\n",
    "$$\\Delta\\mathbf x = \\mathbf{Bu}$$\n",
    "\n",
    "    If you can't control it with commands, matrix B is 0.\n",
    "    \n",
    "    \n",
    "Therefore the complete Kalman filter equation for the prior mean is\n",
    "\n",
    "$$\\mathbf{\\bar x} = \\mathbf{Fx} + \\mathbf{Bu}$$\n",
    "\n",
    "and this is the equation that is computed when you call `KalmanFilter.predict()`.\n",
    "\n",
    "#### 4. Design process noise: Q\n",
    " - This is the difficult part; it depends on the system model\n",
    " \n",
    "#### 5. Design measurement function: Hx\n",
    "\n",
    "$$\n",
    "\\begin{aligned}\n",
    "\\textbf{y} &= \\mathbf z - \\mathbf{H\\bar x}  \\\\\n",
    "\\begin{bmatrix}y \\end{bmatrix} &= \\begin{bmatrix}z\\end{bmatrix} - \\begin{bmatrix}?&?\\end{bmatrix} \\begin{bmatrix}x \\\\ \\dot x\\end{bmatrix} \\\\\n",
    "\\textbf{y} &= \\mathbf z - \\begin{bmatrix}1&0\\end{bmatrix} \\begin{bmatrix}x \\\\ \\dot x\\end{bmatrix} \\\\\n",
    "&= [z] - [x]\n",
    "\\end{aligned}$$\n",
    "\n",
    "And so, for our Kalman filter we set\n",
    "\n",
    "$$\\mathbf H=\\begin{bmatrix}1&0\\end{bmatrix}$$\n",
    "\n",
    "\n",
    "#### 6. Design measurement noise: R\n",
    "\n",
    "This is just the sensor uncertainty\n",
    "\n",
    "$R = \\begin{bmatrix}5\\end{bmatrix}$\n"
   ]
  },
  {
   "cell_type": "markdown",
   "metadata": {},
   "source": [
    "## IMPLEMENT THE KALMAN FILTER"
   ]
  },
  {
   "cell_type": "code",
   "execution_count": 2,
   "metadata": {},
   "outputs": [
    {
     "name": "stdout",
     "output_type": "stream",
     "text": [
      "(2, 2)\n",
      "(2, 2)\n",
      "(1, 2)\n",
      "(2, 2)\n",
      "(1, 1)\n"
     ]
    }
   ],
   "source": [
    "np.random.seed(10)\n",
    "\n",
    "process_var = 1 # variance in the dog's movement\n",
    "sensor_var = 2 # variance in the sensor\n",
    "\n",
    "x=0          # x1\n",
    "velocity=1   # x2\n",
    "\n",
    "dt = 1\n",
    "\n",
    "F = np.array([[1., dt],[0.,1.]])\n",
    "print(F.shape)\n",
    "P = np.array([[500, 0.],[0, 49]])\n",
    "print(P.shape)\n",
    "H = np.array([[1., 0.]])\n",
    "print(H.shape)\n",
    "Q = np.array([[1., 2],[2, 4]])\n",
    "print(Q.shape)\n",
    "R = np.array([[5]])\n",
    "print(R.shape)\n",
    "\n",
    "B = 0\n",
    "u = 0\n",
    "\n",
    "# create list of measurements\n",
    "gt, zs = compute_dog_data(x=x,vel=velocity,z_var=sensor_var, process_var=process_var, count=30, dt=dt)\n",
    "# print(xs.shape)\n",
    "# print(zs.shape)\n",
    "# print(xs)\n",
    "# print(zs)\n",
    "\n"
   ]
  },
  {
   "cell_type": "code",
   "execution_count": 3,
   "metadata": {},
   "outputs": [
    {
     "data": {
      "text/plain": [
       "[<matplotlib.lines.Line2D at 0x7f938f1b59d0>]"
      ]
     },
     "execution_count": 3,
     "metadata": {},
     "output_type": "execute_result"
    },
    {
     "data": {
      "image/png": "[encoded data removed]",
      "text/plain": [
       "<Figure size 432x288 with 1 Axes>"
      ]
     },
     "metadata": {
      "needs_background": "light"
     },
     "output_type": "display_data"
    }
   ],
   "source": [
    "import matplotlib.pyplot as plt\n",
    "plt.plot(gt, color='r') # ground truth\n",
    "plt.plot(zs, color='g') # measurement"
   ]
  },
  {
   "cell_type": "code",
   "execution_count": 4,
   "metadata": {},
   "outputs": [],
   "source": [
    "\n",
    "# y = zs[0] - H @ x\n",
    "# print(y)\n",
    "# print(H@P@H.T)\n",
    "# # K = P @ H.T @ np.linalg.inv(H @ P @ H.T + R)\n",
    "# K = P @ H.T /(H @ P @ H.T + R)\n",
    "# print(K, K.shape)\n",
    "# # x = x + np.dot(K, y)\n",
    "# x = x + K*y\n",
    "# print(x, x.shape)\n",
    "# #P = (np.eye(len(P)) - K @ H) @ P\n",
    "# #P = (np.eye(len(P))- K@H)@P@(np.eye(len(P))- K@H).T + K@R@K.T\n",
    "# P = (np.eye(len(P))- K@H)@P@(np.eye(len(P))- K@H).T + R*K@K.T\n",
    "# print(P, P.shape)\n"
   ]
  },
  {
   "cell_type": "code",
   "execution_count": 5,
   "metadata": {},
   "outputs": [
    {
     "name": "stdout",
     "output_type": "stream",
     "text": [
      "initial state is [[0.]\n",
      " [0.]] and (2, 1)\n",
      "<class 'numpy.ndarray'>\n",
      "<class 'numpy.ndarray'>\n"
     ]
    }
   ],
   "source": [
    "x = np.array([[0., 0.]]).T\n",
    "print(\"initial state is {} and {}\".format(x, x.shape))\n",
    "\n",
    "def predict(x, F, B, u, P, Q):\n",
    "    x = np.dot(F,x) + np.dot(B,u)\n",
    "#     print('prior x is {}'.format(x))    \n",
    "    P = F @ P @ F.T\n",
    "#     print('prior P is {}'.format(P))\n",
    "    return x, P\n",
    "\n",
    "def update(z,x,H,P,R):\n",
    "    y = z - H @ x\n",
    "    K = P @ H.T / (H @ P @ H.T + R)\n",
    "    x = x + K*y\n",
    "#     print('post x is {}'.format(x))\n",
    "    P = (np.eye(len(P))- K@H)@P@(np.eye(len(P))- K@H).T + R*K@K.T\n",
    "#     print('post P is {}'.format(P))\n",
    "#     print('\\n')\n",
    "    return x, P\n",
    "\n",
    "xs, covs = [], []\n",
    "\n",
    "for z in zs:\n",
    "    # predict \n",
    "    x, P = predict(x, F, B, u, P, Q)  \n",
    "    # update\n",
    "    x, P = update(z,x,H,P,R)\n",
    "    xs.append(x)\n",
    "    covs.append(P)\n",
    "\n",
    "print(type(x))\n",
    "print(type(P))\n",
    "xs, covs = np.array(xs), np.array(covs) \n"
   ]
  },
  {
   "cell_type": "code",
   "execution_count": 6,
   "metadata": {},
   "outputs": [
    {
     "name": "stdout",
     "output_type": "stream",
     "text": [
      "(30, 2, 1)\n",
      "[[[ 3.31297095]\n",
      "  [ 0.29569322]]\n",
      "\n",
      " [[ 1.9395689 ]\n",
      "  [-1.19503912]]\n",
      "\n",
      " [[ 2.06899644]\n",
      "  [-0.42209952]]\n",
      "\n",
      " [[ 3.83666284]\n",
      "  [ 0.5052703 ]]\n",
      "\n",
      " [[ 4.98894638]\n",
      "  [ 0.71950575]]\n",
      "\n",
      " [[ 7.32418025]\n",
      "  [ 1.15823583]]\n",
      "\n",
      " [[ 8.53653895]\n",
      "  [ 1.17068635]]\n",
      "\n",
      " [[ 9.4149111 ]\n",
      "  [ 1.11236559]]\n",
      "\n",
      " [[ 9.7363536 ]\n",
      "  [ 0.97306477]]\n",
      "\n",
      " [[10.18723833]\n",
      "  [ 0.89075037]]\n",
      "\n",
      " [[ 9.87114673]\n",
      "  [ 0.71858628]]\n",
      "\n",
      " [[11.70665426]\n",
      "  [ 0.86409311]]\n",
      "\n",
      " [[13.3742885 ]\n",
      "  [ 0.9604132 ]]\n",
      "\n",
      " [[14.81640942]\n",
      "  [ 1.013884  ]]\n",
      "\n",
      " [[15.82997794]\n",
      "  [ 1.01385139]]\n",
      "\n",
      " [[16.40516411]\n",
      "  [ 0.97143438]]\n",
      "\n",
      " [[17.11307636]\n",
      "  [ 0.94749575]]\n",
      "\n",
      " [[18.33685677]\n",
      "  [ 0.97116085]]\n",
      "\n",
      " [[19.45403784]\n",
      "  [ 0.98299265]]\n",
      "\n",
      " [[20.68204015]\n",
      "  [ 1.00182811]]\n",
      "\n",
      " [[22.08696538]\n",
      "  [ 1.03130617]]\n",
      "\n",
      " [[23.23765696]\n",
      "  [ 1.03963089]]\n",
      "\n",
      " [[24.29854558]\n",
      "  [ 1.04104735]]\n",
      "\n",
      " [[25.41338937]\n",
      "  [ 1.04575547]]\n",
      "\n",
      " [[26.49936915]\n",
      "  [ 1.04821705]]\n",
      "\n",
      " [[27.65940085]\n",
      "  [ 1.05479148]]\n",
      "\n",
      " [[28.80613994]\n",
      "  [ 1.05999386]]\n",
      "\n",
      " [[29.95181733]\n",
      "  [ 1.06466562]]\n",
      "\n",
      " [[31.52557057]\n",
      "  [ 1.09144929]]\n",
      "\n",
      " [[32.79004583]\n",
      "  [ 1.10024393]]]\n"
     ]
    }
   ],
   "source": [
    "print(xs.shape)\n",
    "print(xs)"
   ]
  },
  {
   "cell_type": "code",
   "execution_count": 7,
   "metadata": {},
   "outputs": [
    {
     "name": "stdout",
     "output_type": "stream",
     "text": [
      "(30, 2, 2)\n",
      "[[[4.95487365e+00 4.42238267e-01]\n",
      "  [4.42238267e-01 4.46660650e+01]]\n",
      "\n",
      " [[4.54959350e+00 4.06341463e+00]\n",
      "  [4.06341463e+00 8.00731707e+00]]\n",
      "\n",
      " [[4.02662151e+00 2.34987813e+00]\n",
      "  [2.34987813e+00 2.33436738e+00]]\n",
      "\n",
      " [[3.44340971e+00 1.45829022e+00]\n",
      "  [1.45829022e+00 9.68169500e-01]]\n",
      "\n",
      " [[2.97212230e+00 9.84112710e-01]\n",
      "  [9.84112710e-01 4.90587530e-01]]\n",
      "\n",
      " [[2.60328299e+00 7.06887831e-01]\n",
      "  [7.06887831e-01 2.82097999e-01]]\n",
      "\n",
      " [[2.31158416e+00 5.31761034e-01]\n",
      "  [5.31761034e-01 1.76917174e-01]]\n",
      "\n",
      " [[2.07671520e+00 4.14333646e-01]\n",
      "  [4.14333646e-01 1.18191328e-01]]\n",
      "\n",
      " [[1.88418147e+00 3.31850237e-01]\n",
      "  [3.31850237e-01 8.28476207e-02]]\n",
      "\n",
      " [[1.72377329e+00 2.71728839e-01]\n",
      "  [2.71728839e-01 6.03105472e-02]]\n",
      "\n",
      " [[1.58821449e+00 2.26569434e-01]\n",
      "  [2.26569434e-01 4.52645521e-02]]\n",
      "\n",
      " [[1.47222408e+00 1.91793878e-01]\n",
      "  [1.91793878e-01 3.48373332e-02]]\n",
      "\n",
      " [[1.37189481e+00 1.64448375e-01]\n",
      "  [1.64448375e-01 2.73835064e-02]]\n",
      "\n",
      " [[1.28428218e+00 1.42558628e-01]\n",
      "  [1.42558628e-01 2.19140484e-02]]\n",
      "\n",
      " [[1.20712927e+00 1.24764720e-01]\n",
      "  [1.24764720e-01 1.78099710e-02]]\n",
      "\n",
      " [[1.13867929e+00 1.10105321e-01]\n",
      "  [1.10105321e-01 1.46703245e-02]]\n",
      "\n",
      " [[1.07754552e+00 9.78853583e-02]\n",
      "  [9.78853583e-02 1.22275828e-02]]\n",
      "\n",
      " [[1.02261941e+00 8.75922150e-02]\n",
      "  [8.75922150e-02 1.02985755e-02]]\n",
      "\n",
      " [[9.73004576e-01 7.88411531e-02]\n",
      "  [7.88411531e-02 8.75501092e-03]]\n",
      "\n",
      " [[9.27968627e-01 7.13388656e-02]\n",
      "  [7.13388656e-02 7.50520873e-03]]\n",
      "\n",
      " [[8.86907438e-01 6.48585951e-02]\n",
      "  [6.48585951e-02 6.48246555e-03]]\n",
      "\n",
      " [[8.49318365e-01 5.92228061e-02]\n",
      "  [5.92228061e-02 5.63746199e-03]]\n",
      "\n",
      " [[8.14779861e-01 5.42909000e-02]\n",
      "  [5.42909000e-02 4.93319753e-03]]\n",
      "\n",
      " [[7.82935803e-01 4.99503643e-02]\n",
      "  [4.99503643e-02 4.34154448e-03]]\n",
      "\n",
      " [[7.53483303e-01 4.61102994e-02]\n",
      "  [4.61102994e-02 3.84086124e-03]]\n",
      "\n",
      " [[7.26163143e-01 4.26966223e-02]\n",
      "  [4.26966223e-02 3.41431207e-03]]\n",
      "\n",
      " [[7.00752198e-01 3.96484666e-02]\n",
      "  [3.96484666e-02 3.04866651e-03]]\n",
      "\n",
      " [[6.77057371e-01 3.69154514e-02]\n",
      "  [3.69154514e-02 2.73342972e-03]]\n",
      "\n",
      " [[6.54910717e-01 3.44555857e-02]\n",
      "  [3.44555857e-02 2.46020463e-03]]\n",
      "\n",
      " [[6.34165486e-01 3.22336463e-02]\n",
      "  [3.22336463e-02 2.22221853e-03]]]\n"
     ]
    }
   ],
   "source": [
    "print(covs.shape)\n",
    "print(covs)"
   ]
  },
  {
   "cell_type": "code",
   "execution_count": 8,
   "metadata": {},
   "outputs": [],
   "source": [
    "from kf_book.mkf_internal import plot_track"
   ]
  },
  {
   "cell_type": "code",
   "execution_count": 9,
   "metadata": {},
   "outputs": [
    {
     "data": {
      "image/png": "[encoded data removed]",
      "text/plain": [
       "<Figure size 432x288 with 1 Axes>"
      ]
     },
     "metadata": {
      "needs_background": "light"
     },
     "output_type": "display_data"
    },
    {
     "data": {
      "image/png": "[encoded data removed]",
      "text/plain": [
       "<Figure size 432x288 with 2 Axes>"
      ]
     },
     "metadata": {
      "needs_background": "light"
     },
     "output_type": "display_data"
    }
   ],
   "source": [
    "plot_track(xs[:, 0], gt[:], zs, covs,y_lim=(-5, 40))"
   ]
  },
  {
   "cell_type": "markdown",
   "metadata": {},
   "source": [
    "## N dimensional Kalman Filter Class 구현하기"
   ]
  },
  {
   "cell_type": "code",
   "execution_count": 10,
   "metadata": {},
   "outputs": [],
   "source": [
    "import numpy as np\n",
    "# from numpy import dot, zeros, eye\n",
    "\n",
    "class NdKalmanFilter():\n",
    "    '''\n",
    "    My N dimensional Kalman Filter\n",
    "    '''\n",
    "    def __init__(self, dim_x, dim_z, dim_u = 0):\n",
    "        self.dim_x = dim_x\n",
    "        self.dim_z = dim_z\n",
    "        self.dim_u = dim_u\n",
    "        print(\"you need to define the following \\n self.x \\n self.P \\n self.B \\n self.F \\n self.Q \\n self.R\")\n",
    "        self.x = np.zeros((dim_x,1))     # state mean\n",
    "        self.P = np.eye(dim_x)           # state covariance\n",
    "        self.B = 0                       # control transition matrix\n",
    "        self.F = np.eye(dim_x)           # state transition matrix\n",
    "        self.Q = np.eye(dim_x)           # process noise\n",
    "        self.R = np.eye(dim_z)           # measurement noise \n",
    "        self.H = np.zeros((dim_z,dim_x)) # measurment function\n",
    "        self.y = np.zeros((dim_z,1))     # residual (z-x)\n",
    "        \n",
    "        z = np.array([None]*self.dim_z)\n",
    "        self.z = np.zeros((dim_z,1))\n",
    "        \"\"\" ensure z is a (dim_z, 1) shaped vector\"\"\"\n",
    "        \n",
    "    def predict(self,u=0):\n",
    "        self.x = np.dot(self.F, self.x) + np.dot(self.B, u)\n",
    "        self.P = np.dot(np.dot(self.F,self.P),(self.F.T)) + self.Q\n",
    "        \n",
    "        return self.x, self.P\n",
    "    \n",
    "    def update(self,z):\n",
    "        self.y = z - self.H @ x\n",
    "        self.K = self.P @ self.H.T / (self.H @ self.P @ self.H.T + self.R)\n",
    "        self.x = self.x + self.K*self.y\n",
    "        #     print('post x is {}'.format(x))\n",
    "        self.P = (np.eye(len(self.P))- self.K@self.H)@self.P@(np.eye(len(self.P))- self.K@self.H).T + self.R*self.K@self.K.T\n",
    "        return self.x, self.P"
   ]
  },
  {
   "cell_type": "code",
   "execution_count": 11,
   "metadata": {},
   "outputs": [
    {
     "name": "stdout",
     "output_type": "stream",
     "text": [
      "you need to define the following \n",
      " self.x \n",
      " self.P \n",
      " self.B \n",
      " self.F \n",
      " self.Q \n",
      " self.R\n"
     ]
    }
   ],
   "source": [
    "nkf = NdKalmanFilter(dim_x=2, dim_z=1, dim_u=0)"
   ]
  },
  {
   "cell_type": "code",
   "execution_count": 12,
   "metadata": {},
   "outputs": [
    {
     "name": "stdout",
     "output_type": "stream",
     "text": [
      "initial state is \n",
      "[[0.]\n",
      " [0.]] \n",
      "and shape of (2, 1)\n"
     ]
    }
   ],
   "source": [
    "dt=1\n",
    "nkf.x = np.array([[0., 0.]]).T\n",
    "print(\"initial state is \\n{} \\nand shape of {}\".format(nkf.x, nkf.x.shape))\n",
    "nkf.P = nkf.P*50 # np.array([[500, 0.],[0, 49]])\n",
    "nkf.B = 0\n",
    "nkf.F = np.array([[1., dt],[0.,1.]])\n",
    "nkf.Q = np.array([[1., 2],[2, 4]])\n",
    "nkf.R = np.array([[5.]])\n",
    "nkf.H = np.array([[1., 0.]])\n"
   ]
  },
  {
   "cell_type": "code",
   "execution_count": 14,
   "metadata": {},
   "outputs": [
    {
     "name": "stdout",
     "output_type": "stream",
     "text": [
      "(30, 2, 1)\n",
      "(30, 2, 2)\n"
     ]
    }
   ],
   "source": [
    "xs, covs = [],[]\n",
    "\n",
    "for z in zs:\n",
    "    # predict \n",
    "    x, P = nkf.predict()\n",
    "    # update\n",
    "    x, P = nkf.update(z)\n",
    "    xs.append(x)\n",
    "    covs.append(P)\n",
    "    \n",
    "xs, covs = np.array(xs), np.array(covs) \n",
    "\n",
    "print(xs.shape)\n",
    "print(covs.shape)\n"
   ]
  },
  {
   "cell_type": "code",
   "execution_count": 15,
   "metadata": {},
   "outputs": [
    {
     "data": {
      "image/png": "[encoded data removed]",
      "text/plain": [
       "<Figure size 432x288 with 1 Axes>"
      ]
     },
     "metadata": {
      "needs_background": "light"
     },
     "output_type": "display_data"
    },
    {
     "data": {
      "image/png": "[encoded data removed]",
      "text/plain": [
       "<Figure size 432x288 with 2 Axes>"
      ]
     },
     "metadata": {
      "needs_background": "light"
     },
     "output_type": "display_data"
    }
   ],
   "source": [
    "from kf_book.mkf_internal import plot_track\n",
    "plot_track(xs[:, 0], gt[:], zs, covs,y_lim=(-5, 40))"
   ]
  },
  {
   "cell_type": "code",
   "execution_count": null,
   "metadata": {},
   "outputs": [],
   "source": []
  }
 ],
 "metadata": {
  "kernelspec": {
   "display_name": "Python 3",
   "language": "python",
   "name": "python3"
  },
  "language_info": {
   "codemirror_mode": {
    "name": "ipython",
    "version": 3
   },
   "file_extension": ".py",
   "mimetype": "text/x-python",
   "name": "python",
   "nbconvert_exporter": "python",
   "pygments_lexer": "ipython3",
   "version": "3.8.5"
  }
 },
 "nbformat": 4,
 "nbformat_minor": 4
}
