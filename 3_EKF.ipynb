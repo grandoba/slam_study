{
 "cells": [
  {
   "cell_type": "markdown",
   "metadata": {},
   "source": [
    "# Extended Kalman Filter\n"
   ]
  },
  {
   "cell_type": "markdown",
   "metadata": {},
   "source": [
    "**The EKF handles nonlinearity by linearizing the system at the point of the current estimate, and then the linear Kalman filter is used to filter this linearized system.**"
   ]
  },
  {
   "cell_type": "markdown",
   "metadata": {},
   "source": [
    "Linearizing systems of differential equations is similar. We linearize $f(\\mathbf x, \\mathbf u)$, and $h(\\mathbf x)$ by taking the partial derivatives of each to evaluate $\\mathbf F$ and $\\mathbf H$ at the point $\\mathbf x_t$ and $\\mathbf u_t$. We call the partial derivative of a matrix the [*Jacobian*](https://en.wikipedia.org/wiki/Jacobian_matrix_and_determinant). This gives us the the discrete state transition matrix and measurement model matrix:"
   ]
  },
  {
   "cell_type": "markdown",
   "metadata": {},
   "source": [
    "$$\n",
    "\\begin{aligned}\n",
    "\\mathbf F \n",
    "&= {\\frac{\\partial{f(\\mathbf x_t, \\mathbf u_t)}}{\\partial{\\mathbf x}}}\\biggr|_{{\\mathbf x_t},{\\mathbf u_t}} \\\\\n",
    "\\mathbf H &= \\frac{\\partial{h(\\bar{\\mathbf x}_t)}}{\\partial{\\bar{\\mathbf x}}}\\biggr|_{\\bar{\\mathbf x}_t} \n",
    "\\end{aligned}\n",
    "$$"
   ]
  },
  {
   "cell_type": "markdown",
   "metadata": {},
   "source": [
    "$$\\begin{array}{l|l}\n",
    "\\text{linear Kalman filter} & \\text{EKF} \\\\\n",
    "\\hline \n",
    "& \\boxed{\\mathbf F = {\\frac{\\partial{f(\\mathbf x_t, \\mathbf u_t)}}{\\partial{\\mathbf x}}}\\biggr|_{{\\mathbf x_t},{\\mathbf u_t}}} \\\\\n",
    "\\mathbf{\\bar x} = \\mathbf{Fx} + \\mathbf{Bu} & \\boxed{\\mathbf{\\bar x} = f(\\mathbf x, \\mathbf u)}  \\\\\n",
    "\\mathbf{\\bar P} = \\mathbf{FPF}^\\mathsf{T}+\\mathbf Q  & \\mathbf{\\bar P} = \\mathbf{FPF}^\\mathsf{T}+\\mathbf Q \\\\\n",
    "\\hline\n",
    "& \\boxed{\\mathbf H = \\frac{\\partial{h(\\bar{\\mathbf x}_t)}}{\\partial{\\bar{\\mathbf x}}}\\biggr|_{\\bar{\\mathbf x}_t}} \\\\\n",
    "\\textbf{y} = \\mathbf z - \\mathbf{H \\bar{x}} & \\textbf{y} = \\mathbf z - \\boxed{h(\\bar{x})}\\\\\n",
    "\\mathbf{K} = \\mathbf{\\bar{P}H}^\\mathsf{T} (\\mathbf{H\\bar{P}H}^\\mathsf{T} + \\mathbf R)^{-1} & \\mathbf{K} = \\mathbf{\\bar{P}H}^\\mathsf{T} (\\mathbf{H\\bar{P}H}^\\mathsf{T} + \\mathbf R)^{-1} \\\\\n",
    "\\mathbf x=\\mathbf{\\bar{x}} +\\mathbf{K\\textbf{y}} & \\mathbf x=\\mathbf{\\bar{x}} +\\mathbf{K\\textbf{y}} \\\\\n",
    "\\mathbf P= (\\mathbf{I}-\\mathbf{KH})\\mathbf{\\bar{P}} & \\mathbf P= (\\mathbf{I}-\\mathbf{KH})\\mathbf{\\bar{P}}\n",
    "\\end{array}$$"
   ]
  },
  {
   "cell_type": "markdown",
   "metadata": {},
   "source": [
    "We don't normally use $\\mathbf{Fx}$ to propagate the state for the EKF as the linearization causes inaccuracies. It is typical to compute $\\bar{\\mathbf x}$ using a suitable numerical integration technique such as Euler or Runge Kutta. Thus I wrote $\\mathbf{\\bar x} = f(\\mathbf x, \\mathbf u)$. For the same reasons we don't use $\\mathbf{H\\bar{x}}$ in the computation for the residual, opting for the more accurate $h(\\bar{\\mathbf x})$.\n",
    "\n",
    "I think the easiest way to understand the EKF is to start off with an example. Later you may want to come back and reread this section."
   ]
  },
  {
   "cell_type": "markdown",
   "metadata": {},
   "source": [
    "## Robot Simulator "
   ]
  },
  {
   "cell_type": "markdown",
   "metadata": {},
   "source": [
    "### Design the State Variables\n",
    "\n",
    "For our filter we will maintain the position $x,y$ and orientation $\\theta$ of the robot:\n",
    "\n",
    "$$\\mathbf x = \\begin{bmatrix}x \\\\ y \\\\ \\theta\\end{bmatrix}$$\n",
    "\n",
    "Our control input $\\mathbf u$ is the velocity $v$ and steering angle $\\alpha$:\n",
    "\n",
    "$$\\mathbf u = \\begin{bmatrix}v \\\\ \\alpha\\end{bmatrix}$$"
   ]
  },
  {
   "cell_type": "markdown",
   "metadata": {},
   "source": [
    "\n",
    "### Design the System Model\n",
    "\n",
    "We model our system as a nonlinear motion model plus noise.\n",
    "\n",
    "$$\\bar x = f(x, u) + \\mathcal{N}(0, Q)$$\n",
    "\n",
    "\n",
    "\n",
    "Using the motion model for a robot that we created above, we can expand this to\n",
    "\n",
    "$$\\bar{\\begin{bmatrix}x\\\\y\\\\\\theta\\end{bmatrix}} = \\begin{bmatrix}x\\\\y\\\\\\theta\\end{bmatrix} + \n",
    "\\begin{bmatrix}- R\\sin(\\theta) + R\\sin(\\theta + \\beta) \\\\\n",
    "R\\cos(\\theta) - R\\cos(\\theta + \\beta) \\\\\n",
    "\\beta\\end{bmatrix}$$\n",
    "\n",
    "We find The $\\mathbf F$ by taking the Jacobian of $f(x,u)$.\n",
    "\n",
    "$$\\mathbf F = \\frac{\\partial f(x, u)}{\\partial x} =\\begin{bmatrix}\n",
    "\\frac{\\partial f_1}{\\partial x} & \n",
    "\\frac{\\partial f_1}{\\partial y} &\n",
    "\\frac{\\partial f_1}{\\partial \\theta}\\\\\n",
    "\\frac{\\partial f_2}{\\partial x} & \n",
    "\\frac{\\partial f_2}{\\partial y} &\n",
    "\\frac{\\partial f_2}{\\partial \\theta} \\\\\n",
    "\\frac{\\partial f_3}{\\partial x} & \n",
    "\\frac{\\partial f_3}{\\partial y} &\n",
    "\\frac{\\partial f_3}{\\partial \\theta}\n",
    "\\end{bmatrix}\n",
    "$$\n",
    "\n",
    "When we calculate these we get\n",
    "\n",
    "$$\\mathbf F = \\begin{bmatrix}\n",
    "1 & 0 & -R\\cos(\\theta) + R\\cos(\\theta+\\beta) \\\\\n",
    "0 & 1 & -R\\sin(\\theta) + R\\sin(\\theta+\\beta) \\\\\n",
    "0 & 0 & 1\n",
    "\\end{bmatrix}$$\n",
    "\n",
    "We can double check our work with SymPy."
   ]
  },
  {
   "cell_type": "code",
   "execution_count": 1,
   "metadata": {},
   "outputs": [
    {
     "data": {
      "text/latex": [
       "$\\displaystyle \\left[\\begin{matrix}1 & 0 & - \\frac{w \\cos{\\left(\\theta \\right)}}{\\tan{\\left(\\alpha \\right)}} + \\frac{w \\cos{\\left(\\frac{t v \\tan{\\left(\\alpha \\right)}}{w} + \\theta \\right)}}{\\tan{\\left(\\alpha \\right)}}\\\\0 & 1 & - \\frac{w \\sin{\\left(\\theta \\right)}}{\\tan{\\left(\\alpha \\right)}} + \\frac{w \\sin{\\left(\\frac{t v \\tan{\\left(\\alpha \\right)}}{w} + \\theta \\right)}}{\\tan{\\left(\\alpha \\right)}}\\\\0 & 0 & 1\\end{matrix}\\right]$"
      ],
      "text/plain": [
       "⎡                        ⎛t⋅v⋅tan(α)    ⎞⎤\n",
       "⎢                   w⋅cos⎜────────── + θ⎟⎥\n",
       "⎢        w⋅cos(θ)        ⎝    w         ⎠⎥\n",
       "⎢1  0  - ──────── + ─────────────────────⎥\n",
       "⎢         tan(α)            tan(α)       ⎥\n",
       "⎢                                        ⎥\n",
       "⎢                        ⎛t⋅v⋅tan(α)    ⎞⎥\n",
       "⎢                   w⋅sin⎜────────── + θ⎟⎥\n",
       "⎢        w⋅sin(θ)        ⎝    w         ⎠⎥\n",
       "⎢0  1  - ──────── + ─────────────────────⎥\n",
       "⎢         tan(α)            tan(α)       ⎥\n",
       "⎢                                        ⎥\n",
       "⎣0  0                  1                 ⎦"
      ]
     },
     "execution_count": 1,
     "metadata": {},
     "output_type": "execute_result"
    }
   ],
   "source": [
    "import sympy\n",
    "from sympy.abc import alpha, x, y, v, w, R, theta\n",
    "from sympy import symbols, Matrix\n",
    "sympy.init_printing(use_latex=\"mathjax\", fontsize='16pt')\n",
    "time = symbols('t')\n",
    "d = v*time\n",
    "beta = (d/w)*sympy.tan(alpha)\n",
    "r = w/sympy.tan(alpha)\n",
    "\n",
    "fxu = Matrix([[x-r*sympy.sin(theta) + r*sympy.sin(theta+beta)],\n",
    "              [y+r*sympy.cos(theta)- r*sympy.cos(theta+beta)],\n",
    "              [theta+beta]])\n",
    "F = fxu.jacobian(Matrix([x, y, theta]))\n",
    "F"
   ]
  },
  {
   "cell_type": "markdown",
   "metadata": {},
   "source": [
    "That looks a bit complicated. We can use SymPy to substitute terms:"
   ]
  },
  {
   "cell_type": "code",
   "execution_count": 2,
   "metadata": {},
   "outputs": [
    {
     "data": {
      "text/latex": [
       "$\\displaystyle \\left[\\begin{matrix}1 & 0 & - R \\cos{\\left(\\theta \\right)} + R \\cos{\\left(\\beta + \\theta \\right)}\\\\0 & 1 & - R \\sin{\\left(\\theta \\right)} + R \\sin{\\left(\\beta + \\theta \\right)}\\\\0 & 0 & 1\\end{matrix}\\right]$"
      ],
      "text/plain": [
       "⎡1  0  -R⋅cos(θ) + R⋅cos(β + θ)⎤\n",
       "⎢                              ⎥\n",
       "⎢0  1  -R⋅sin(θ) + R⋅sin(β + θ)⎥\n",
       "⎢                              ⎥\n",
       "⎣0  0             1            ⎦"
      ]
     },
     "execution_count": 2,
     "metadata": {},
     "output_type": "execute_result"
    }
   ],
   "source": [
    "# reduce common expressions\n",
    "B, R = symbols('beta, R')\n",
    "F = F.subs((d/w)*sympy.tan(alpha), B)\n",
    "F.subs(w/sympy.tan(alpha), R)"
   ]
  },
  {
   "cell_type": "markdown",
   "metadata": {},
   "source": [
    "This form  verifies that the computation of the Jacobian is correct.\n",
    "\n",
    "Now we can turn our attention to the noise. Here, the noise is in our control input, so it is in *control space*. In other words, we command a specific velocity and steering angle, but we need to convert that into errors in $x, y, \\theta$. In a real system this might vary depending on velocity, so it will need to be recomputed for every prediction. I will choose this as the noise model; for a real robot you will need to choose a model that accurately depicts the error in your system. \n",
    "\n",
    "$$\\mathbf{M} = \\begin{bmatrix}\\sigma_{vel}^2 & 0 \\\\ 0 & \\sigma_\\alpha^2\\end{bmatrix}$$\n",
    "\n",
    "If this was a linear problem we would convert from control space to state space using the by now familiar $\\mathbf{FMF}^\\mathsf T$ form. Since our motion model is nonlinear we do not try to find a closed form solution to this, but instead linearize it with a Jacobian which we will name $\\mathbf{V}$. \n",
    "\n",
    "$$\\mathbf{V} = \\frac{\\partial f(x, u)}{\\partial u} \\begin{bmatrix}\n",
    "\\frac{\\partial f_1}{\\partial v} & \\frac{\\partial f_1}{\\partial \\alpha} \\\\\n",
    "\\frac{\\partial f_2}{\\partial v} & \\frac{\\partial f_2}{\\partial \\alpha} \\\\\n",
    "\\frac{\\partial f_3}{\\partial v} & \\frac{\\partial f_3}{\\partial \\alpha}\n",
    "\\end{bmatrix}$$\n",
    "\n",
    "These partial derivatives become very difficult to work with. Let's compute them with SymPy. "
   ]
  },
  {
   "cell_type": "code",
   "execution_count": 3,
   "metadata": {},
   "outputs": [
    {
     "data": {
      "text/latex": [
       "$\\displaystyle \\left[\\begin{matrix}t \\cos{\\left(\\beta + \\theta \\right)} & \\frac{d \\left(\\tan^{2}{\\left(\\alpha \\right)} + 1\\right) \\cos{\\left(\\beta + \\theta \\right)}}{\\tan{\\left(\\alpha \\right)}} - \\frac{w \\left(- \\tan^{2}{\\left(\\alpha \\right)} - 1\\right) \\sin{\\left(\\theta \\right)}}{\\tan^{2}{\\left(\\alpha \\right)}} + \\frac{w \\left(- \\tan^{2}{\\left(\\alpha \\right)} - 1\\right) \\sin{\\left(\\beta + \\theta \\right)}}{\\tan^{2}{\\left(\\alpha \\right)}}\\\\t \\sin{\\left(\\beta + \\theta \\right)} & \\frac{d \\left(\\tan^{2}{\\left(\\alpha \\right)} + 1\\right) \\sin{\\left(\\beta + \\theta \\right)}}{\\tan{\\left(\\alpha \\right)}} + \\frac{w \\left(- \\tan^{2}{\\left(\\alpha \\right)} - 1\\right) \\cos{\\left(\\theta \\right)}}{\\tan^{2}{\\left(\\alpha \\right)}} - \\frac{w \\left(- \\tan^{2}{\\left(\\alpha \\right)} - 1\\right) \\cos{\\left(\\beta + \\theta \\right)}}{\\tan^{2}{\\left(\\alpha \\right)}}\\\\\\frac{t}{R} & \\frac{d \\left(\\tan^{2}{\\left(\\alpha \\right)} + 1\\right)}{w}\\end{matrix}\\right]$"
      ],
      "text/plain": [
       "⎡                ⎛   2       ⎞                ⎛     2       ⎞            ⎛    \n",
       "⎢              d⋅⎝tan (α) + 1⎠⋅cos(β + θ)   w⋅⎝- tan (α) - 1⎠⋅sin(θ)   w⋅⎝- ta\n",
       "⎢t⋅cos(β + θ)  ────────────────────────── - ──────────────────────── + ───────\n",
       "⎢                        tan(α)                        2                      \n",
       "⎢                                                   tan (α)                   \n",
       "⎢                                                                             \n",
       "⎢                ⎛   2       ⎞                ⎛     2       ⎞            ⎛    \n",
       "⎢              d⋅⎝tan (α) + 1⎠⋅sin(β + θ)   w⋅⎝- tan (α) - 1⎠⋅cos(θ)   w⋅⎝- ta\n",
       "⎢t⋅sin(β + θ)  ────────────────────────── + ──────────────────────── - ───────\n",
       "⎢                        tan(α)                        2                      \n",
       "⎢                                                   tan (α)                   \n",
       "⎢                                                                             \n",
       "⎢                                                  ⎛   2       ⎞              \n",
       "⎢     t                                          d⋅⎝tan (α) + 1⎠              \n",
       "⎢     ─                                          ───────────────              \n",
       "⎣     R                                                 w                     \n",
       "\n",
       " 2       ⎞           ⎤\n",
       "n (α) - 1⎠⋅sin(β + θ)⎥\n",
       "─────────────────────⎥\n",
       "      2              ⎥\n",
       "   tan (α)           ⎥\n",
       "                     ⎥\n",
       " 2       ⎞           ⎥\n",
       "n (α) - 1⎠⋅cos(β + θ)⎥\n",
       "─────────────────────⎥\n",
       "      2              ⎥\n",
       "   tan (α)           ⎥\n",
       "                     ⎥\n",
       "                     ⎥\n",
       "                     ⎥\n",
       "                     ⎥\n",
       "                     ⎦"
      ]
     },
     "execution_count": 3,
     "metadata": {},
     "output_type": "execute_result"
    }
   ],
   "source": [
    "V = fxu.jacobian(Matrix([v, alpha]))\n",
    "V = V.subs(sympy.tan(alpha)/w, 1/R) \n",
    "V = V.subs(time*v/R, B)\n",
    "V = V.subs(time*v, 'd')\n",
    "V"
   ]
  },
  {
   "cell_type": "markdown",
   "metadata": {},
   "source": [
    "This should give you an appreciation of how quickly the EKF become mathematically intractable. \n",
    "\n",
    "This gives us the final form of our prediction equations:\n",
    "\n",
    "$$\\begin{aligned}\n",
    "\\mathbf{\\bar x} &= \\mathbf x + \n",
    "\\begin{bmatrix}- R\\sin(\\theta) + R\\sin(\\theta + \\beta) \\\\\n",
    "R\\cos(\\theta) - R\\cos(\\theta + \\beta) \\\\\n",
    "\\beta\\end{bmatrix}\\\\\n",
    "\\mathbf{\\bar P} &=\\mathbf{FPF}^{\\mathsf T} + \\mathbf{VMV}^{\\mathsf T}\n",
    "\\end{aligned}$$\n",
    "\n",
    "This form of linearization is not the only way to predict $\\mathbf x$. For example, we could use a numerical integration technique such as *Runge Kutta* to compute the movement\n",
    "of the robot. This will be required if the time step is relatively large. Things are not as cut and dried with the EKF as for the Kalman filter. For a real problem you have to carefully model your system with differential equations and then determine the most appropriate way to solve that system. The correct approach depends on the accuracy you require, how nonlinear the equations are, your processor budget, and numerical stability concerns."
   ]
  },
  {
   "cell_type": "markdown",
   "metadata": {},
   "source": [
    "### Design the Measurement Model\n",
    "\n",
    "The robot's sensor provides a noisy bearing and range measurement to multiple known locations in the landscape. The measurement model must convert the state $\\begin{bmatrix}x & y&\\theta\\end{bmatrix}^\\mathsf T$ into a range and bearing to the landmark. If $\\mathbf p$ \n",
    "is the position of a landmark, the range $r$ is\n",
    "\n",
    "$$r = \\sqrt{(p_x - x)^2 + (p_y - y)^2}$$\n",
    "\n",
    "The sensor provides bearing relative to the orientation of the robot, so we must subtract the robot's orientation from the bearing to get the sensor reading, like so:\n",
    "\n",
    "$$\\phi = \\arctan(\\frac{p_y - y}{p_x - x}) - \\theta$$\n",
    "\n",
    "\n",
    "Thus our measurement model $h$ is\n",
    "\n",
    "\n",
    "$$\\begin{aligned}\n",
    "\\mathbf z& = h(\\bar{\\mathbf x}, \\mathbf p) &+ \\mathcal{N}(0, R)\\\\\n",
    "&= \\begin{bmatrix}\n",
    "\\sqrt{(p_x - x)^2 + (p_y - y)^2} \\\\\n",
    "\\arctan(\\frac{p_y - y}{p_x - x}) - \\theta \n",
    "\\end{bmatrix} &+ \\mathcal{N}(0, R)\n",
    "\\end{aligned}$$\n",
    "\n",
    "This is clearly nonlinear, so we need linearize $h$  at $\\mathbf x$ by taking its Jacobian. We compute that with SymPy below."
   ]
  },
  {
   "cell_type": "code",
   "execution_count": 4,
   "metadata": {},
   "outputs": [
    {
     "data": {
      "text/latex": [
       "$\\displaystyle \\left[\\begin{matrix}\\frac{- p_{x} + x}{\\sqrt{\\left(p_{x} - x\\right)^{2} + \\left(p_{y} - y\\right)^{2}}} & \\frac{- p_{y} + y}{\\sqrt{\\left(p_{x} - x\\right)^{2} + \\left(p_{y} - y\\right)^{2}}} & 0\\\\- \\frac{- p_{y} + y}{\\left(p_{x} - x\\right)^{2} + \\left(p_{y} - y\\right)^{2}} & - \\frac{p_{x} - x}{\\left(p_{x} - x\\right)^{2} + \\left(p_{y} - y\\right)^{2}} & -1\\end{matrix}\\right]$"
      ],
      "text/plain": [
       "⎡          -pₓ + x                      -p_y + y             ⎤\n",
       "⎢───────────────────────────  ───────────────────────────  0 ⎥\n",
       "⎢   ________________________     ________________________    ⎥\n",
       "⎢  ╱         2            2     ╱         2            2     ⎥\n",
       "⎢╲╱  (pₓ - x)  + (p_y - y)    ╲╱  (pₓ - x)  + (p_y - y)      ⎥\n",
       "⎢                                                            ⎥\n",
       "⎢       -(-p_y + y)                   -(pₓ - x)              ⎥\n",
       "⎢  ──────────────────────       ──────────────────────     -1⎥\n",
       "⎢          2            2               2            2       ⎥\n",
       "⎣  (pₓ - x)  + (p_y - y)        (pₓ - x)  + (p_y - y)        ⎦"
      ]
     },
     "execution_count": 4,
     "metadata": {},
     "output_type": "execute_result"
    }
   ],
   "source": [
    "px, py = symbols('p_x, p_y')\n",
    "z = Matrix([[sympy.sqrt((px-x)**2 + (py-y)**2)],\n",
    "            [sympy.atan2(py-y, px-x) - theta]])\n",
    "z.jacobian(Matrix([x, y, theta]))"
   ]
  },
  {
   "cell_type": "markdown",
   "metadata": {},
   "source": [
    "Now we need to write that as a Python function. For example we might write:"
   ]
  },
  {
   "cell_type": "code",
   "execution_count": 5,
   "metadata": {},
   "outputs": [],
   "source": [
    "from math import sqrt\n",
    "\n",
    "def H_of(x, landmark_pos):\n",
    "    \"\"\" compute Jacobian of H matrix where h(x) computes \n",
    "    the range and bearing to a landmark for state x \"\"\"\n",
    "\n",
    "    px = landmark_pos[0]\n",
    "    py = landmark_pos[1]\n",
    "    hyp = (px - x[0, 0])**2 + (py - x[1, 0])**2\n",
    "    dist = sqrt(hyp)\n",
    "\n",
    "    H = array(\n",
    "        [[-(px - x[0, 0]) / dist, -(py - x[1, 0]) / dist, 0],\n",
    "         [ (py - x[1, 0]) / hyp,  -(px - x[0, 0]) / hyp, -1]])\n",
    "    return H"
   ]
  },
  {
   "cell_type": "markdown",
   "metadata": {},
   "source": [
    "We also need to define a function that converts the system state into a measurement."
   ]
  },
  {
   "cell_type": "code",
   "execution_count": 6,
   "metadata": {},
   "outputs": [],
   "source": [
    "from math import atan2\n",
    "\n",
    "def Hx(x, landmark_pos):\n",
    "    \"\"\" takes a state variable and returns the measurement\n",
    "    that would correspond to that state.\n",
    "    \"\"\"\n",
    "    px = landmark_pos[0]\n",
    "    py = landmark_pos[1]\n",
    "    dist = sqrt((px - x[0, 0])**2 + (py - x[1, 0])**2)\n",
    "\n",
    "    Hx = array([[dist],\n",
    "                [atan2(py - x[1, 0], px - x[0, 0]) - x[2, 0]]])\n",
    "    return Hx"
   ]
  },
  {
   "cell_type": "code",
   "execution_count": 7,
   "metadata": {},
   "outputs": [],
   "source": [
    "import numpy as np\n",
    "from numpy import zeros, eye, dot \n",
    "\n",
    "class ExtendedKalmanFilter():\n",
    "    def __init__(self,dim_x, dim_z, dim_u=0):\n",
    "        self.x = zeros((dim_x,1))       \n",
    "        self.P = eye(dim_x)\n",
    "        self.F = eye(dim_x)\n",
    "        self.Q = eye(dim_x)\n",
    "        self.z = zeros((dim_z,1))\n",
    "        self.R = eye(dim_z)\n",
    "        self.dt = 1\n",
    "    def predict(self, ):\n",
    "        self.x = self.move(self.x, u, self.dt)\n",
    "        return x, P\n",
    "    def update(self, z, H_Jacobian):\n",
    "        return x,P\n",
    "    def move(self,x,u,dt):\n",
    "        '''\n",
    "        x : current state  \n",
    "        u : control input\n",
    "        dt : time step\n",
    "        \n",
    "        x = f(x,u)  == x = x + delta_x\n",
    "        \n",
    "        즉, delta_x를 여기서 구함\n",
    "        '''\n",
    "        hdg = x[2,0]\n",
    "        vel = u[0]\n",
    "        steering_angle = u[1]\n",
    "        dist = vel*dt\n",
    "        \n",
    "        if abs(steering_angle) > 0.001: # is robot turning?\n",
    "            beta = (dist/ self.wheelbase) * tan\n",
    "        \n",
    "        \n",
    "  "
   ]
  },
  {
   "cell_type": "code",
   "execution_count": 13,
   "metadata": {},
   "outputs": [
    {
     "name": "stdout",
     "output_type": "stream",
     "text": [
      "\n",
      "you need to fill in the following variables: ['x', 'P', 'F', 'Q', 'z', 'R']\n"
     ]
    }
   ],
   "source": [
    "robot_ekf = ExtendedKalmanFilter(dim_x=3,dim_z=2,dim_u=2)\n",
    "print(\"you need to fill in the following variables: {}\".format([item[0] for item in vars(robot_ekf).items()]))"
   ]
  },
  {
   "cell_type": "code",
   "execution_count": null,
   "metadata": {},
   "outputs": [],
   "source": []
  },
  {
   "cell_type": "markdown",
   "metadata": {},
   "source": [
    "# Stated Augmented Extended Kalman Filter (SLAM)"
   ]
  },
  {
   "cell_type": "code",
   "execution_count": null,
   "metadata": {},
   "outputs": [],
   "source": []
  }
 ],
 "metadata": {
  "kernelspec": {
   "display_name": "Python 3",
   "language": "python",
   "name": "python3"
  },
  "language_info": {
   "codemirror_mode": {
    "name": "ipython",
    "version": 3
   },
   "file_extension": ".py",
   "mimetype": "text/x-python",
   "name": "python",
   "nbconvert_exporter": "python",
   "pygments_lexer": "ipython3",
   "version": "3.8.5"
  }
 },
 "nbformat": 4,
 "nbformat_minor": 4
}
